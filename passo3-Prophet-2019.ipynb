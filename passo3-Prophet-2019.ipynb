{
 "cells": [
  {
   "cell_type": "markdown",
   "id": "dated-cliff",
   "metadata": {},
   "source": [
    "# Prophet 2019\n",
    "\n",
    "https://facebook.github.io/prophet/docs/quick_start.html"
   ]
  },
  {
   "cell_type": "code",
   "execution_count": 1,
   "id": "permanent-skirt",
   "metadata": {},
   "outputs": [
    {
     "output_type": "execute_result",
     "data": {
      "text/plain": [
       "           ds         y\n",
       "0  2014-01-01  13427897\n",
       "1  2014-02-01  14152120\n",
       "2  2014-03-01  13710770\n",
       "3  2014-04-01  12602895\n",
       "4  2014-05-01  14603442"
      ],
      "text/html": "<div>\n<style scoped>\n    .dataframe tbody tr th:only-of-type {\n        vertical-align: middle;\n    }\n\n    .dataframe tbody tr th {\n        vertical-align: top;\n    }\n\n    .dataframe thead th {\n        text-align: right;\n    }\n</style>\n<table border=\"1\" class=\"dataframe\">\n  <thead>\n    <tr style=\"text-align: right;\">\n      <th></th>\n      <th>ds</th>\n      <th>y</th>\n    </tr>\n  </thead>\n  <tbody>\n    <tr>\n      <th>0</th>\n      <td>2014-01-01</td>\n      <td>13427897</td>\n    </tr>\n    <tr>\n      <th>1</th>\n      <td>2014-02-01</td>\n      <td>14152120</td>\n    </tr>\n    <tr>\n      <th>2</th>\n      <td>2014-03-01</td>\n      <td>13710770</td>\n    </tr>\n    <tr>\n      <th>3</th>\n      <td>2014-04-01</td>\n      <td>12602895</td>\n    </tr>\n    <tr>\n      <th>4</th>\n      <td>2014-05-01</td>\n      <td>14603442</td>\n    </tr>\n  </tbody>\n</table>\n</div>"
     },
     "metadata": {},
     "execution_count": 1
    }
   ],
   "source": [
    "# Importa bibliotecas; inicializa variáveis; define funções.\n",
    "from prophet.plot import plot_plotly, plot_components_plotly\n",
    "import matplotlib as mpl \n",
    "import pandas as pd\n",
    "from prophet import Prophet\n",
    "import matplotlib.pyplot as plt\n",
    "import seaborn as sns\n",
    "from sklearn.metrics import mean_squared_error\n",
    "import math as mt\n",
    "\n",
    "df = pd.read_csv('dadosRonaldo.csv')\n",
    "\n",
    "df_prophet = df.loc[0:59,['data', 'total']]\n",
    "df_prophet.rename(columns={'data': 'ds', 'total': 'y'}, inplace = True)\n",
    "df_prophet.head()"
   ]
  },
  {
   "cell_type": "markdown",
   "id": "above-clerk",
   "metadata": {},
   "source": [
    "Cria e ajusta o modelo Prophet."
   ]
  },
  {
   "cell_type": "code",
   "execution_count": 5,
   "id": "romantic-secretariat",
   "metadata": {},
   "outputs": [
    {
     "name": "stderr",
     "output_type": "stream",
     "text": [
      "INFO:prophet:Disabling weekly seasonality. Run prophet with weekly_seasonality=True to override this.\n",
      "INFO:prophet:Disabling daily seasonality. Run prophet with daily_seasonality=True to override this.\n"
     ]
    },
    {
     "data": {
      "text/html": [
       "<div>\n",
       "<style scoped>\n",
       "    .dataframe tbody tr th:only-of-type {\n",
       "        vertical-align: middle;\n",
       "    }\n",
       "\n",
       "    .dataframe tbody tr th {\n",
       "        vertical-align: top;\n",
       "    }\n",
       "\n",
       "    .dataframe thead th {\n",
       "        text-align: right;\n",
       "    }\n",
       "</style>\n",
       "<table border=\"1\" class=\"dataframe\">\n",
       "  <thead>\n",
       "    <tr style=\"text-align: right;\">\n",
       "      <th></th>\n",
       "      <th>ds</th>\n",
       "      <th>yhat</th>\n",
       "      <th>yhat_lower</th>\n",
       "      <th>yhat_upper</th>\n",
       "    </tr>\n",
       "  </thead>\n",
       "  <tbody>\n",
       "    <tr>\n",
       "      <th>67</th>\n",
       "      <td>2019-08-01</td>\n",
       "      <td>2.373164e+07</td>\n",
       "      <td>2.177804e+07</td>\n",
       "      <td>2.556069e+07</td>\n",
       "    </tr>\n",
       "    <tr>\n",
       "      <th>68</th>\n",
       "      <td>2019-09-01</td>\n",
       "      <td>2.471337e+07</td>\n",
       "      <td>2.284393e+07</td>\n",
       "      <td>2.652145e+07</td>\n",
       "    </tr>\n",
       "    <tr>\n",
       "      <th>69</th>\n",
       "      <td>2019-10-01</td>\n",
       "      <td>2.432387e+07</td>\n",
       "      <td>2.254411e+07</td>\n",
       "      <td>2.606311e+07</td>\n",
       "    </tr>\n",
       "    <tr>\n",
       "      <th>70</th>\n",
       "      <td>2019-11-01</td>\n",
       "      <td>2.568375e+07</td>\n",
       "      <td>2.390622e+07</td>\n",
       "      <td>2.734109e+07</td>\n",
       "    </tr>\n",
       "    <tr>\n",
       "      <th>71</th>\n",
       "      <td>2019-12-01</td>\n",
       "      <td>2.418470e+07</td>\n",
       "      <td>2.243714e+07</td>\n",
       "      <td>2.599238e+07</td>\n",
       "    </tr>\n",
       "  </tbody>\n",
       "</table>\n",
       "</div>"
      ],
      "text/plain": [
       "           ds          yhat    yhat_lower    yhat_upper\n",
       "67 2019-08-01  2.373164e+07  2.177804e+07  2.556069e+07\n",
       "68 2019-09-01  2.471337e+07  2.284393e+07  2.652145e+07\n",
       "69 2019-10-01  2.432387e+07  2.254411e+07  2.606311e+07\n",
       "70 2019-11-01  2.568375e+07  2.390622e+07  2.734109e+07\n",
       "71 2019-12-01  2.418470e+07  2.243714e+07  2.599238e+07"
      ]
     },
     "execution_count": 5,
     "metadata": {},
     "output_type": "execute_result"
    }
   ],
   "source": [
    "m = Prophet()\n",
    "\n",
    "m.fit(df_prophet)\n",
    "\n",
    "future = m.make_future_dataframe(periods=12, freq='MS')\n",
    "future.tail()\n",
    "\n",
    "forecast = m.predict(future)\n",
    "forecast[['ds', 'yhat', 'yhat_lower', 'yhat_upper']].tail()"
   ]
  },
  {
   "cell_type": "markdown",
   "id": "retained-mount",
   "metadata": {},
   "source": [
    "Resultado da previsão da série (yhat)."
   ]
  },
  {
   "cell_type": "code",
   "execution_count": 12,
   "id": "artificial-vietnamese",
   "metadata": {},
   "outputs": [
    {
     "data": {
      "text/html": [
       "<div>\n",
       "<style scoped>\n",
       "    .dataframe tbody tr th:only-of-type {\n",
       "        vertical-align: middle;\n",
       "    }\n",
       "\n",
       "    .dataframe tbody tr th {\n",
       "        vertical-align: top;\n",
       "    }\n",
       "\n",
       "    .dataframe thead th {\n",
       "        text-align: right;\n",
       "    }\n",
       "</style>\n",
       "<table border=\"1\" class=\"dataframe\">\n",
       "  <thead>\n",
       "    <tr style=\"text-align: right;\">\n",
       "      <th></th>\n",
       "      <th>data</th>\n",
       "      <th>yhat</th>\n",
       "    </tr>\n",
       "  </thead>\n",
       "  <tbody>\n",
       "    <tr>\n",
       "      <th>60</th>\n",
       "      <td>2019-01-01</td>\n",
       "      <td>2.034713e+07</td>\n",
       "    </tr>\n",
       "    <tr>\n",
       "      <th>61</th>\n",
       "      <td>2019-02-01</td>\n",
       "      <td>2.030886e+07</td>\n",
       "    </tr>\n",
       "    <tr>\n",
       "      <th>62</th>\n",
       "      <td>2019-03-01</td>\n",
       "      <td>2.358965e+07</td>\n",
       "    </tr>\n",
       "    <tr>\n",
       "      <th>63</th>\n",
       "      <td>2019-04-01</td>\n",
       "      <td>2.019957e+07</td>\n",
       "    </tr>\n",
       "    <tr>\n",
       "      <th>64</th>\n",
       "      <td>2019-05-01</td>\n",
       "      <td>2.072847e+07</td>\n",
       "    </tr>\n",
       "    <tr>\n",
       "      <th>65</th>\n",
       "      <td>2019-06-01</td>\n",
       "      <td>2.209273e+07</td>\n",
       "    </tr>\n",
       "    <tr>\n",
       "      <th>66</th>\n",
       "      <td>2019-07-01</td>\n",
       "      <td>2.303409e+07</td>\n",
       "    </tr>\n",
       "    <tr>\n",
       "      <th>67</th>\n",
       "      <td>2019-08-01</td>\n",
       "      <td>2.373164e+07</td>\n",
       "    </tr>\n",
       "    <tr>\n",
       "      <th>68</th>\n",
       "      <td>2019-09-01</td>\n",
       "      <td>2.471337e+07</td>\n",
       "    </tr>\n",
       "    <tr>\n",
       "      <th>69</th>\n",
       "      <td>2019-10-01</td>\n",
       "      <td>2.432387e+07</td>\n",
       "    </tr>\n",
       "    <tr>\n",
       "      <th>70</th>\n",
       "      <td>2019-11-01</td>\n",
       "      <td>2.568375e+07</td>\n",
       "    </tr>\n",
       "    <tr>\n",
       "      <th>71</th>\n",
       "      <td>2019-12-01</td>\n",
       "      <td>2.418470e+07</td>\n",
       "    </tr>\n",
       "  </tbody>\n",
       "</table>\n",
       "</div>"
      ],
      "text/plain": [
       "          data          yhat\n",
       "60  2019-01-01  2.034713e+07\n",
       "61  2019-02-01  2.030886e+07\n",
       "62  2019-03-01  2.358965e+07\n",
       "63  2019-04-01  2.019957e+07\n",
       "64  2019-05-01  2.072847e+07\n",
       "65  2019-06-01  2.209273e+07\n",
       "66  2019-07-01  2.303409e+07\n",
       "67  2019-08-01  2.373164e+07\n",
       "68  2019-09-01  2.471337e+07\n",
       "69  2019-10-01  2.432387e+07\n",
       "70  2019-11-01  2.568375e+07\n",
       "71  2019-12-01  2.418470e+07"
      ]
     },
     "execution_count": 12,
     "metadata": {},
     "output_type": "execute_result"
    }
   ],
   "source": [
    "resultado = forecast.loc[60:71, ['ds','yhat']]\n",
    "resultado = resultado.rename(columns={'ds': 'data'})\n",
    "from datetime import date\n",
    "resultado['data'] = resultado['data'].dt.strftime('%Y-%m-%d') # Ajusta a coluna da data.\n",
    "resultado"
   ]
  },
  {
   "cell_type": "markdown",
   "id": "understanding-vegetable",
   "metadata": {},
   "source": [
    "Valores reais da série ('total')."
   ]
  },
  {
   "cell_type": "code",
   "execution_count": 13,
   "id": "demonstrated-confusion",
   "metadata": {},
   "outputs": [
    {
     "data": {
      "text/html": [
       "<div>\n",
       "<style scoped>\n",
       "    .dataframe tbody tr th:only-of-type {\n",
       "        vertical-align: middle;\n",
       "    }\n",
       "\n",
       "    .dataframe tbody tr th {\n",
       "        vertical-align: top;\n",
       "    }\n",
       "\n",
       "    .dataframe thead th {\n",
       "        text-align: right;\n",
       "    }\n",
       "</style>\n",
       "<table border=\"1\" class=\"dataframe\">\n",
       "  <thead>\n",
       "    <tr style=\"text-align: right;\">\n",
       "      <th></th>\n",
       "      <th>data</th>\n",
       "      <th>total</th>\n",
       "    </tr>\n",
       "  </thead>\n",
       "  <tbody>\n",
       "    <tr>\n",
       "      <th>60</th>\n",
       "      <td>2019-01-01</td>\n",
       "      <td>20039718</td>\n",
       "    </tr>\n",
       "    <tr>\n",
       "      <th>61</th>\n",
       "      <td>2019-02-01</td>\n",
       "      <td>19745890</td>\n",
       "    </tr>\n",
       "    <tr>\n",
       "      <th>62</th>\n",
       "      <td>2019-03-01</td>\n",
       "      <td>20240937</td>\n",
       "    </tr>\n",
       "    <tr>\n",
       "      <th>63</th>\n",
       "      <td>2019-04-01</td>\n",
       "      <td>19011266</td>\n",
       "    </tr>\n",
       "    <tr>\n",
       "      <th>64</th>\n",
       "      <td>2019-05-01</td>\n",
       "      <td>21433199</td>\n",
       "    </tr>\n",
       "    <tr>\n",
       "      <th>65</th>\n",
       "      <td>2019-06-01</td>\n",
       "      <td>21390771</td>\n",
       "    </tr>\n",
       "    <tr>\n",
       "      <th>66</th>\n",
       "      <td>2019-07-01</td>\n",
       "      <td>22132554</td>\n",
       "    </tr>\n",
       "    <tr>\n",
       "      <th>67</th>\n",
       "      <td>2019-08-01</td>\n",
       "      <td>24835788</td>\n",
       "    </tr>\n",
       "    <tr>\n",
       "      <th>68</th>\n",
       "      <td>2019-09-01</td>\n",
       "      <td>25580157</td>\n",
       "    </tr>\n",
       "    <tr>\n",
       "      <th>69</th>\n",
       "      <td>2019-10-01</td>\n",
       "      <td>26673778</td>\n",
       "    </tr>\n",
       "    <tr>\n",
       "      <th>70</th>\n",
       "      <td>2019-11-01</td>\n",
       "      <td>26826165</td>\n",
       "    </tr>\n",
       "    <tr>\n",
       "      <th>71</th>\n",
       "      <td>2019-12-01</td>\n",
       "      <td>24444209</td>\n",
       "    </tr>\n",
       "  </tbody>\n",
       "</table>\n",
       "</div>"
      ],
      "text/plain": [
       "          data     total\n",
       "60  2019-01-01  20039718\n",
       "61  2019-02-01  19745890\n",
       "62  2019-03-01  20240937\n",
       "63  2019-04-01  19011266\n",
       "64  2019-05-01  21433199\n",
       "65  2019-06-01  21390771\n",
       "66  2019-07-01  22132554\n",
       "67  2019-08-01  24835788\n",
       "68  2019-09-01  25580157\n",
       "69  2019-10-01  26673778\n",
       "70  2019-11-01  26826165\n",
       "71  2019-12-01  24444209"
      ]
     },
     "execution_count": 13,
     "metadata": {},
     "output_type": "execute_result"
    }
   ],
   "source": [
    "real = df.loc[60:71,['data', 'total']]\n",
    "real"
   ]
  },
  {
   "cell_type": "markdown",
   "id": "medium-operator",
   "metadata": {},
   "source": [
    "Apresentação dos dados e rmse."
   ]
  },
  {
   "cell_type": "code",
   "execution_count": 14,
   "id": "acute-companion",
   "metadata": {},
   "outputs": [
    {
     "name": "stderr",
     "output_type": "stream",
     "text": [
      "INFO:matplotlib.category:Using categorical units to plot a list of strings that are all parsable as floats or dates. If these strings should be plotted as numbers, cast to the appropriate data type before plotting.\n",
      "INFO:matplotlib.category:Using categorical units to plot a list of strings that are all parsable as floats or dates. If these strings should be plotted as numbers, cast to the appropriate data type before plotting.\n",
      "INFO:matplotlib.category:Using categorical units to plot a list of strings that are all parsable as floats or dates. If these strings should be plotted as numbers, cast to the appropriate data type before plotting.\n",
      "INFO:matplotlib.category:Using categorical units to plot a list of strings that are all parsable as floats or dates. If these strings should be plotted as numbers, cast to the appropriate data type before plotting.\n"
     ]
    },
    {
     "data": {
      "image/png": "[encoded data removed]",
      "text/plain": [
       "<Figure size 1080x432 with 1 Axes>"
      ]
     },
     "metadata": {},
     "output_type": "display_data"
    },
    {
     "name": "stdout",
     "output_type": "stream",
     "text": [
      "O valor do rmse é:  1405480.3746916216\n"
     ]
    }
   ],
   "source": [
    "final_2019 = pd.merge(resultado, real, how = 'inner')\n",
    "x = final_2019['data']\n",
    "y1 = final_2019['yhat']\n",
    "y2 =final_2019['total']\n",
    "\n",
    "sns.set()\n",
    "plt.figure(figsize=(15,6))\n",
    "mpl.rc('axes', labelsize=14)\n",
    "mpl.rc('xtick', labelsize=8)\n",
    "mpl.rc('ytick', labelsize=8)\n",
    "plt.title('Prophet - Previsão 2019')\n",
    "plt.xticks(rotation=90)\n",
    "plt.plot(x,y1,label=\"Previsto 2019\")\n",
    "plt.plot(x,y2,label=\"Real 2019\")\n",
    "plt.legend()\n",
    "plt.show()\n",
    "\n",
    "#Calcula o rmse de cada variável.\n",
    "print('O valor do rmse é: ', mt.sqrt(mean_squared_error(final_2019['yhat'], final_2019['total'])))"
   ]
  }
 ],
 "metadata": {
  "kernelspec": {
   "display_name": "env_adp255",
   "language": "python",
   "name": "env_adp255"
  },
  "language_info": {
   "codemirror_mode": {
    "name": "ipython",
    "version": 3
   },
   "file_extension": ".py",
   "mimetype": "text/x-python",
   "name": "python",
   "nbconvert_exporter": "python",
   "pygments_lexer": "ipython3",
   "version": "3.8.10"
  }
 },
 "nbformat": 4,
 "nbformat_minor": 5
}