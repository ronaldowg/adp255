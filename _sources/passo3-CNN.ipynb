{
  "nbformat": 4,
  "nbformat_minor": 0,
  "metadata": {
    "colab": {
      "name": "ML-ADP255.ipynb",
      "provenance": [],
      "collapsed_sections": [],
      "toc_visible": true
    },
    "kernelspec": {
      "display_name": "env_adp255",
      "name": "env_adp255",
      "language": "python"
    }
  },
  "cells": [
    {
      "cell_type": "markdown",
      "metadata": {
        "id": "uv31DZx2L767"
      },
      "source": [
        "# CNN - Convolutional Neural Network"
      ]
    },
    {
      "cell_type": "markdown",
      "metadata": {
        "id": "xrGvzu1-yq-T"
      },
      "source": [
        "Deep Learning.....  "
      ]
    },
    {
      "cell_type": "code",
      "metadata": {
        "id": "x_ZxTMZ0zZ0w"
      },
      "source": [
        "from numpy import array \n",
        "from keras.models import Sequential \n",
        "from keras.layers import Dense\n",
        "from keras.layers import Flatten \n",
        "from keras.layers.convolutional import Conv1D \n",
        "from keras.layers.convolutional import MaxPooling1D\n",
        "from datetime import timedelta, date\n",
        "from dateutil. relativedelta import relativedelta\n",
        "\n",
        "import pickle\n",
        "import pandas as pd\n",
        "import matplotlib.pyplot as plt"
      ],
      "execution_count": 28,
      "outputs": []
    },
    {
      "cell_type": "code",
      "execution_count": 20,
      "metadata": {},
      "outputs": [],
      "source": [
        "dados = pd.read_csv('datasets/dados.csv')\n",
        "dados = dados.rename(columns={'Unnamed: 0':'mes'})\n",
        "dados = dados.set_index('mes')"
      ]
    },
    {
      "source": [
        "No [Passo 2](passo2.ipynb), a partir do teste de Granger, as seguintes variáriveis foram escolhidas para entrarem no modelo:\n"
      ],
      "cell_type": "markdown",
      "metadata": {}
    },
    {
      "cell_type": "code",
      "execution_count": 21,
      "metadata": {},
      "outputs": [],
      "source": [
        "dados = dados[['ibc','pib','consumo','ICST-R','geracaoGWh','IndGeral','total']]"
      ]
    },
    {
      "cell_type": "code",
      "execution_count": 22,
      "metadata": {},
      "outputs": [
        {
          "output_type": "execute_result",
          "data": {
            "text/plain": [
              "             ibc       pib       consumo  ICST-R    geracaoGWh  IndGeral  \\\n",
              "mes                                                                        \n",
              "2014-01-01  2.75  455935.0  4.027976e+07    97.8  50045.962407      53.1   \n",
              "2014-02-01  3.13  450358.8  4.165349e+07    96.7  46459.730274      52.3   \n",
              "2014-03-01  3.09  462159.8  4.026943e+07    96.3  48004.277170      52.4   \n",
              "2014-04-01  2.37  468767.5  3.959185e+07    92.6  45412.583753      49.2   \n",
              "2014-05-01  2.23  473347.1  3.910050e+07    94.6  44890.282526      47.9   \n",
              "...          ...       ...           ...     ...           ...       ...   \n",
              "2020-08-01 -3.35  628818.8  3.912152e+07    87.8  45954.347797      57.0   \n",
              "2020-09-01 -3.56  632047.2  4.020856e+07    91.5  46045.040560      61.6   \n",
              "2020-10-01 -3.94  660199.5  4.245064e+07    95.2  46098.056273      61.8   \n",
              "2020-11-01 -4.06  666928.9  4.100828e+07    93.8  45883.704482      62.9   \n",
              "2020-12-01 -3.99  676371.9  4.187399e+07    93.9  45799.031123      63.1   \n",
              "\n",
              "               total  \n",
              "mes                   \n",
              "2014-01-01  13427897  \n",
              "2014-02-01  14152120  \n",
              "2014-03-01  13710770  \n",
              "2014-04-01  12602895  \n",
              "2014-05-01  14603442  \n",
              "...              ...  \n",
              "2020-08-01  33983713  \n",
              "2020-09-01  32205815  \n",
              "2020-10-01  33749277  \n",
              "2020-11-01  33762169  \n",
              "2020-12-01  31490103  \n",
              "\n",
              "[84 rows x 7 columns]"
            ],
            "text/html": "<div>\n<style scoped>\n    .dataframe tbody tr th:only-of-type {\n        vertical-align: middle;\n    }\n\n    .dataframe tbody tr th {\n        vertical-align: top;\n    }\n\n    .dataframe thead th {\n        text-align: right;\n    }\n</style>\n<table border=\"1\" class=\"dataframe\">\n  <thead>\n    <tr style=\"text-align: right;\">\n      <th></th>\n      <th>ibc</th>\n      <th>pib</th>\n      <th>consumo</th>\n      <th>ICST-R</th>\n      <th>geracaoGWh</th>\n      <th>IndGeral</th>\n      <th>total</th>\n    </tr>\n    <tr>\n      <th>mes</th>\n      <th></th>\n      <th></th>\n      <th></th>\n      <th></th>\n      <th></th>\n      <th></th>\n      <th></th>\n    </tr>\n  </thead>\n  <tbody>\n    <tr>\n      <th>2014-01-01</th>\n      <td>2.75</td>\n      <td>455935.0</td>\n      <td>4.027976e+07</td>\n      <td>97.8</td>\n      <td>50045.962407</td>\n      <td>53.1</td>\n      <td>13427897</td>\n    </tr>\n    <tr>\n      <th>2014-02-01</th>\n      <td>3.13</td>\n      <td>450358.8</td>\n      <td>4.165349e+07</td>\n      <td>96.7</td>\n      <td>46459.730274</td>\n      <td>52.3</td>\n      <td>14152120</td>\n    </tr>\n    <tr>\n      <th>2014-03-01</th>\n      <td>3.09</td>\n      <td>462159.8</td>\n      <td>4.026943e+07</td>\n      <td>96.3</td>\n      <td>48004.277170</td>\n      <td>52.4</td>\n      <td>13710770</td>\n    </tr>\n    <tr>\n      <th>2014-04-01</th>\n      <td>2.37</td>\n      <td>468767.5</td>\n      <td>3.959185e+07</td>\n      <td>92.6</td>\n      <td>45412.583753</td>\n      <td>49.2</td>\n      <td>12602895</td>\n    </tr>\n    <tr>\n      <th>2014-05-01</th>\n      <td>2.23</td>\n      <td>473347.1</td>\n      <td>3.910050e+07</td>\n      <td>94.6</td>\n      <td>44890.282526</td>\n      <td>47.9</td>\n      <td>14603442</td>\n    </tr>\n    <tr>\n      <th>...</th>\n      <td>...</td>\n      <td>...</td>\n      <td>...</td>\n      <td>...</td>\n      <td>...</td>\n      <td>...</td>\n      <td>...</td>\n    </tr>\n    <tr>\n      <th>2020-08-01</th>\n      <td>-3.35</td>\n      <td>628818.8</td>\n      <td>3.912152e+07</td>\n      <td>87.8</td>\n      <td>45954.347797</td>\n      <td>57.0</td>\n      <td>33983713</td>\n    </tr>\n    <tr>\n      <th>2020-09-01</th>\n      <td>-3.56</td>\n      <td>632047.2</td>\n      <td>4.020856e+07</td>\n      <td>91.5</td>\n      <td>46045.040560</td>\n      <td>61.6</td>\n      <td>32205815</td>\n    </tr>\n    <tr>\n      <th>2020-10-01</th>\n      <td>-3.94</td>\n      <td>660199.5</td>\n      <td>4.245064e+07</td>\n      <td>95.2</td>\n      <td>46098.056273</td>\n      <td>61.8</td>\n      <td>33749277</td>\n    </tr>\n    <tr>\n      <th>2020-11-01</th>\n      <td>-4.06</td>\n      <td>666928.9</td>\n      <td>4.100828e+07</td>\n      <td>93.8</td>\n      <td>45883.704482</td>\n      <td>62.9</td>\n      <td>33762169</td>\n    </tr>\n    <tr>\n      <th>2020-12-01</th>\n      <td>-3.99</td>\n      <td>676371.9</td>\n      <td>4.187399e+07</td>\n      <td>93.9</td>\n      <td>45799.031123</td>\n      <td>63.1</td>\n      <td>31490103</td>\n    </tr>\n  </tbody>\n</table>\n<p>84 rows × 7 columns</p>\n</div>"
          },
          "metadata": {},
          "execution_count": 22
        }
      ],
      "source": [
        "dados"
      ]
    },
    {
      "cell_type": "code",
      "execution_count": 23,
      "metadata": {},
      "outputs": [],
      "source": [
        "# split a multivariate sequence into samples \n",
        "def split_sequences(sequences, n_steps): \n",
        "    X, y = list(), list() \n",
        "    for i in range(len(sequences)): \n",
        "        # find the end of this pattern \n",
        "        end_ix = i + n_steps \n",
        "        # check if we are beyond the dataset \n",
        "        if end_ix == len(sequences): \n",
        "            break\n",
        "        # gather input and output parts of the pattern \n",
        "        seq_x, seq_y = sequences[i:end_ix, :-1], sequences[end_ix, -1] \n",
        "        X.append(seq_x) \n",
        "        y.append(seq_y)\n",
        "    return array(X), array(y)"
      ]
    },
    {
      "cell_type": "code",
      "execution_count": 24,
      "metadata": {},
      "outputs": [
        {
          "output_type": "stream",
          "name": "stdout",
          "text": [
            "(60, 12, 6) (60,)\n"
          ]
        }
      ],
      "source": [
        "# número de steps para considerar no modelo\n",
        "n_steps = 12\n",
        "\n",
        "# primeiro mês para prever a demanda (janeiro de 2020)\n",
        "# resultado das vendas de janeiro é função dos eventos ocorrido em janeiro\n",
        "# mais os eventos (variáveis) ocorridos em n-1 steps atrás\n",
        "\n",
        "dataset = dados.to_numpy()\n",
        "\n",
        "# dados de 2014 até final 2019\n",
        "train = dataset[0:72]\n",
        "\n",
        "# valores da variável totoal de jan/2020 até dez/2020\n",
        "# este é o que queremos prever\n",
        "y_2020 = dataset[72:84,-1]\n",
        "\n",
        "# convert into input/output\n",
        "X, y = split_sequences(train, n_steps)\n",
        "\n",
        "print(X.shape, y.shape)\n",
        "\n",
        "# the dataset knows the number of features, e.g. 2 \n",
        "n_features = X.shape[2]"
      ]
    },
    {
      "cell_type": "code",
      "execution_count": 25,
      "metadata": {},
      "outputs": [
        {
          "output_type": "execute_result",
          "data": {
            "text/plain": [
              "<keras.callbacks.History at 0x154c23910>"
            ]
          },
          "metadata": {},
          "execution_count": 25
        }
      ],
      "source": [
        "model = Sequential() \n",
        "model.add(Conv1D(filters=64, kernel_size=2, activation='relu' , input_shape=(n_steps, n_features)))\n",
        "model.add(MaxPooling1D(pool_size=2)) \n",
        "model.add(Flatten()) \n",
        "model.add(Dense(50, activation='relu' )) \n",
        "model.add(Dense(1)) \n",
        "model.compile(optimizer='adam' , loss='mse' )\n",
        "\n",
        "model.fit(X, y, epochs=1000, verbose=0)"
      ]
    },
    {
      "cell_type": "code",
      "execution_count": 26,
      "metadata": {},
      "outputs": [],
      "source": [
        "#### PREDICAO dos totais em 2020 ####\n",
        "\n",
        "# split a multivariate sequence into samples \n",
        "def split_sequences_pred(sequences, n_steps): \n",
        "    X = list()\n",
        "    for i in range(len(sequences)): \n",
        "        # find the end of this pattern \n",
        "        end_ix = i + n_steps \n",
        "        # check if we are beyond the dataset \n",
        "        if end_ix == len(sequences): \n",
        "            break\n",
        "        # gather input and output parts of the pattern \n",
        "        seq_x = sequences[i:end_ix, :-1]\n",
        "        X.append(seq_x) \n",
        "    return array(X)\n",
        "\n",
        "begin_ix = 72-n_steps #72 é posição onde está janeiro 2020\n",
        "dataset_X_pred = dataset[begin_ix:83, :-1] #83 é novembro, pois max que vamos é até dez/20\n",
        "\n",
        "def split_sequences_pred(sequences, n_steps):\n",
        "    X = list()\n",
        "    for i in range(12):\n",
        "        end = len(sequences)-i\n",
        "        seq_x = sequences[end-n_steps:end]\n",
        "        X.append(seq_x) \n",
        "    return array(X)\n",
        "\n",
        "X_pred = split_sequences_pred(dataset_X_pred , n_steps)\n",
        "#começa em -1 e vai diminuindo\n",
        "y_pred = list()\n",
        "for i in range(12):\n",
        "    X=X_pred[-1-i].reshape(1,n_steps,n_features)\n",
        "    yhat = model.predict(X, verbose=0)\n",
        "    y_pred.append(yhat[0][0])"
      ]
    },
    {
      "cell_type": "code",
      "execution_count": 27,
      "metadata": {},
      "outputs": [
        {
          "output_type": "execute_result",
          "data": {
            "text/plain": [
              "array([0.77092692, 0.75376116, 1.11609215, 0.8706859 , 0.90793886,\n",
              "       0.63268914, 0.49213768, 0.63707647, 0.68123108, 0.63454906,\n",
              "       0.60071395, 0.59929337])"
            ]
          },
          "metadata": {},
          "execution_count": 27
        }
      ],
      "source": [
        "y_pred/y_2020"
      ]
    },
    {
      "cell_type": "code",
      "execution_count": 29,
      "metadata": {},
      "outputs": [
        {
          "output_type": "display_data",
          "data": {
            "text/plain": "<Figure size 432x288 with 1 Axes>",
            "image/svg+xml": "<?xml version=\"1.0\" encoding=\"utf-8\" standalone=\"no\"?>\n<!DOCTYPE svg PUBLIC \"-//W3C//DTD SVG 1.1//EN\"\n  \"http://www.w3.org/Graphics/SVG/1.1/DTD/svg11.dtd\">\n<svg height=\"259.116562pt\" version=\"1.1\" viewBox=\"0 0 372.103125 259.116562\" width=\"372.103125pt\" xmlns=\"http://www.w3.org/2000/svg\" xmlns:xlink=\"http://www.w3.org/1999/xlink\">\n <metadata>\n  <rdf:RDF xmlns:cc=\"http://creativecommons.org/ns#\" xmlns:dc=\"http://purl.org/dc/elements/1.1/\" xmlns:rdf=\"http://www.w3.org/1999/02/22-rdf-syntax-ns#\">\n   <cc:Work>\n    <dc:type rdf:resource=\"http://purl.org/dc/dcmitype/StillImage\"/>\n    <dc:date>2021-05-29T12:36:19.269558</dc:date>\n    <dc:format>image/svg+xml</dc:format>\n    <dc:creator>\n     <cc:Agent>\n      <dc:title>Matplotlib v3.4.2, https://matplotlib.org/</dc:title>\n     </cc:Agent>\n    </dc:creator>\n   </cc:Work>\n  </rdf:RDF>\n </metadata>\n <defs>\n  <style type=\"text/css\">*{stroke-linecap:butt;stroke-linejoin:round;}</style>\n </defs>\n <g id=\"figure_1\">\n  <g id=\"patch_1\">\n   <path d=\"M 0 259.116562 \nL 372.103125 259.116562 \nL 372.103125 0 \nL 0 0 \nz\n\" style=\"fill:none;\"/>\n  </g>\n  <g id=\"axes_1\">\n   <g id=\"patch_2\">\n    <path d=\"M 30.103125 235.238437 \nL 364.903125 235.238437 \nL 364.903125 17.798437 \nL 30.103125 17.798437 \nz\n\" style=\"fill:#ffffff;\"/>\n   </g>\n   <g id=\"matplotlib.axis_1\">\n    <g id=\"xtick_1\">\n     <g id=\"line2d_1\">\n      <defs>\n       <path d=\"M 0 0 \nL 0 3.5 \n\" id=\"m2815711923\" style=\"stroke:#000000;stroke-width:0.8;\"/>\n      </defs>\n      <g>\n       <use style=\"stroke:#000000;stroke-width:0.8;\" x=\"72.990728\" xlink:href=\"#m2815711923\" y=\"235.238437\"/>\n      </g>\n     </g>\n     <g id=\"text_1\">\n      <!-- 2 -->\n      <g transform=\"translate(69.809478 249.836875)scale(0.1 -0.1)\">\n       <defs>\n        <path d=\"M 1228 531 \nL 3431 531 \nL 3431 0 \nL 469 0 \nL 469 531 \nQ 828 903 1448 1529 \nQ 2069 2156 2228 2338 \nQ 2531 2678 2651 2914 \nQ 2772 3150 2772 3378 \nQ 2772 3750 2511 3984 \nQ 2250 4219 1831 4219 \nQ 1534 4219 1204 4116 \nQ 875 4013 500 3803 \nL 500 4441 \nQ 881 4594 1212 4672 \nQ 1544 4750 1819 4750 \nQ 2544 4750 2975 4387 \nQ 3406 4025 3406 3419 \nQ 3406 3131 3298 2873 \nQ 3191 2616 2906 2266 \nQ 2828 2175 2409 1742 \nQ 1991 1309 1228 531 \nz\n\" id=\"DejaVuSans-32\" transform=\"scale(0.015625)\"/>\n       </defs>\n       <use xlink:href=\"#DejaVuSans-32\"/>\n      </g>\n     </g>\n    </g>\n    <g id=\"xtick_2\">\n     <g id=\"line2d_2\">\n      <g>\n       <use style=\"stroke:#000000;stroke-width:0.8;\" x=\"128.329571\" xlink:href=\"#m2815711923\" y=\"235.238437\"/>\n      </g>\n     </g>\n     <g id=\"text_2\">\n      <!-- 4 -->\n      <g transform=\"translate(125.148321 249.836875)scale(0.1 -0.1)\">\n       <defs>\n        <path d=\"M 2419 4116 \nL 825 1625 \nL 2419 1625 \nL 2419 4116 \nz\nM 2253 4666 \nL 3047 4666 \nL 3047 1625 \nL 3713 1625 \nL 3713 1100 \nL 3047 1100 \nL 3047 0 \nL 2419 0 \nL 2419 1100 \nL 313 1100 \nL 313 1709 \nL 2253 4666 \nz\n\" id=\"DejaVuSans-34\" transform=\"scale(0.015625)\"/>\n       </defs>\n       <use xlink:href=\"#DejaVuSans-34\"/>\n      </g>\n     </g>\n    </g>\n    <g id=\"xtick_3\">\n     <g id=\"line2d_3\">\n      <g>\n       <use style=\"stroke:#000000;stroke-width:0.8;\" x=\"183.668414\" xlink:href=\"#m2815711923\" y=\"235.238437\"/>\n      </g>\n     </g>\n     <g id=\"text_3\">\n      <!-- 6 -->\n      <g transform=\"translate(180.487164 249.836875)scale(0.1 -0.1)\">\n       <defs>\n        <path d=\"M 2113 2584 \nQ 1688 2584 1439 2293 \nQ 1191 2003 1191 1497 \nQ 1191 994 1439 701 \nQ 1688 409 2113 409 \nQ 2538 409 2786 701 \nQ 3034 994 3034 1497 \nQ 3034 2003 2786 2293 \nQ 2538 2584 2113 2584 \nz\nM 3366 4563 \nL 3366 3988 \nQ 3128 4100 2886 4159 \nQ 2644 4219 2406 4219 \nQ 1781 4219 1451 3797 \nQ 1122 3375 1075 2522 \nQ 1259 2794 1537 2939 \nQ 1816 3084 2150 3084 \nQ 2853 3084 3261 2657 \nQ 3669 2231 3669 1497 \nQ 3669 778 3244 343 \nQ 2819 -91 2113 -91 \nQ 1303 -91 875 529 \nQ 447 1150 447 2328 \nQ 447 3434 972 4092 \nQ 1497 4750 2381 4750 \nQ 2619 4750 2861 4703 \nQ 3103 4656 3366 4563 \nz\n\" id=\"DejaVuSans-36\" transform=\"scale(0.015625)\"/>\n       </defs>\n       <use xlink:href=\"#DejaVuSans-36\"/>\n      </g>\n     </g>\n    </g>\n    <g id=\"xtick_4\">\n     <g id=\"line2d_4\">\n      <g>\n       <use style=\"stroke:#000000;stroke-width:0.8;\" x=\"239.007257\" xlink:href=\"#m2815711923\" y=\"235.238437\"/>\n      </g>\n     </g>\n     <g id=\"text_4\">\n      <!-- 8 -->\n      <g transform=\"translate(235.826007 249.836875)scale(0.1 -0.1)\">\n       <defs>\n        <path d=\"M 2034 2216 \nQ 1584 2216 1326 1975 \nQ 1069 1734 1069 1313 \nQ 1069 891 1326 650 \nQ 1584 409 2034 409 \nQ 2484 409 2743 651 \nQ 3003 894 3003 1313 \nQ 3003 1734 2745 1975 \nQ 2488 2216 2034 2216 \nz\nM 1403 2484 \nQ 997 2584 770 2862 \nQ 544 3141 544 3541 \nQ 544 4100 942 4425 \nQ 1341 4750 2034 4750 \nQ 2731 4750 3128 4425 \nQ 3525 4100 3525 3541 \nQ 3525 3141 3298 2862 \nQ 3072 2584 2669 2484 \nQ 3125 2378 3379 2068 \nQ 3634 1759 3634 1313 \nQ 3634 634 3220 271 \nQ 2806 -91 2034 -91 \nQ 1263 -91 848 271 \nQ 434 634 434 1313 \nQ 434 1759 690 2068 \nQ 947 2378 1403 2484 \nz\nM 1172 3481 \nQ 1172 3119 1398 2916 \nQ 1625 2713 2034 2713 \nQ 2441 2713 2670 2916 \nQ 2900 3119 2900 3481 \nQ 2900 3844 2670 4047 \nQ 2441 4250 2034 4250 \nQ 1625 4250 1398 4047 \nQ 1172 3844 1172 3481 \nz\n\" id=\"DejaVuSans-38\" transform=\"scale(0.015625)\"/>\n       </defs>\n       <use xlink:href=\"#DejaVuSans-38\"/>\n      </g>\n     </g>\n    </g>\n    <g id=\"xtick_5\">\n     <g id=\"line2d_5\">\n      <g>\n       <use style=\"stroke:#000000;stroke-width:0.8;\" x=\"294.3461\" xlink:href=\"#m2815711923\" y=\"235.238437\"/>\n      </g>\n     </g>\n     <g id=\"text_5\">\n      <!-- 10 -->\n      <g transform=\"translate(287.9836 249.836875)scale(0.1 -0.1)\">\n       <defs>\n        <path d=\"M 794 531 \nL 1825 531 \nL 1825 4091 \nL 703 3866 \nL 703 4441 \nL 1819 4666 \nL 2450 4666 \nL 2450 531 \nL 3481 531 \nL 3481 0 \nL 794 0 \nL 794 531 \nz\n\" id=\"DejaVuSans-31\" transform=\"scale(0.015625)\"/>\n        <path d=\"M 2034 4250 \nQ 1547 4250 1301 3770 \nQ 1056 3291 1056 2328 \nQ 1056 1369 1301 889 \nQ 1547 409 2034 409 \nQ 2525 409 2770 889 \nQ 3016 1369 3016 2328 \nQ 3016 3291 2770 3770 \nQ 2525 4250 2034 4250 \nz\nM 2034 4750 \nQ 2819 4750 3233 4129 \nQ 3647 3509 3647 2328 \nQ 3647 1150 3233 529 \nQ 2819 -91 2034 -91 \nQ 1250 -91 836 529 \nQ 422 1150 422 2328 \nQ 422 3509 836 4129 \nQ 1250 4750 2034 4750 \nz\n\" id=\"DejaVuSans-30\" transform=\"scale(0.015625)\"/>\n       </defs>\n       <use xlink:href=\"#DejaVuSans-31\"/>\n       <use x=\"63.623047\" xlink:href=\"#DejaVuSans-30\"/>\n      </g>\n     </g>\n    </g>\n    <g id=\"xtick_6\">\n     <g id=\"line2d_6\">\n      <g>\n       <use style=\"stroke:#000000;stroke-width:0.8;\" x=\"349.684943\" xlink:href=\"#m2815711923\" y=\"235.238437\"/>\n      </g>\n     </g>\n     <g id=\"text_6\">\n      <!-- 12 -->\n      <g transform=\"translate(343.322443 249.836875)scale(0.1 -0.1)\">\n       <use xlink:href=\"#DejaVuSans-31\"/>\n       <use x=\"63.623047\" xlink:href=\"#DejaVuSans-32\"/>\n      </g>\n     </g>\n    </g>\n   </g>\n   <g id=\"matplotlib.axis_2\">\n    <g id=\"ytick_1\">\n     <g id=\"line2d_7\">\n      <defs>\n       <path d=\"M 0 0 \nL -3.5 0 \n\" id=\"mee21ad1b36\" style=\"stroke:#000000;stroke-width:0.8;\"/>\n      </defs>\n      <g>\n       <use style=\"stroke:#000000;stroke-width:0.8;\" x=\"30.103125\" xlink:href=\"#mee21ad1b36\" y=\"199.403398\"/>\n      </g>\n     </g>\n     <g id=\"text_7\">\n      <!-- 2.0 -->\n      <g transform=\"translate(7.2 203.202617)scale(0.1 -0.1)\">\n       <defs>\n        <path d=\"M 684 794 \nL 1344 794 \nL 1344 0 \nL 684 0 \nL 684 794 \nz\n\" id=\"DejaVuSans-2e\" transform=\"scale(0.015625)\"/>\n       </defs>\n       <use xlink:href=\"#DejaVuSans-32\"/>\n       <use x=\"63.623047\" xlink:href=\"#DejaVuSans-2e\"/>\n       <use x=\"95.410156\" xlink:href=\"#DejaVuSans-30\"/>\n      </g>\n     </g>\n    </g>\n    <g id=\"ytick_2\">\n     <g id=\"line2d_8\">\n      <g>\n       <use style=\"stroke:#000000;stroke-width:0.8;\" x=\"30.103125\" xlink:href=\"#mee21ad1b36\" y=\"160.110262\"/>\n      </g>\n     </g>\n     <g id=\"text_8\">\n      <!-- 2.5 -->\n      <g transform=\"translate(7.2 163.90948)scale(0.1 -0.1)\">\n       <defs>\n        <path d=\"M 691 4666 \nL 3169 4666 \nL 3169 4134 \nL 1269 4134 \nL 1269 2991 \nQ 1406 3038 1543 3061 \nQ 1681 3084 1819 3084 \nQ 2600 3084 3056 2656 \nQ 3513 2228 3513 1497 \nQ 3513 744 3044 326 \nQ 2575 -91 1722 -91 \nQ 1428 -91 1123 -41 \nQ 819 9 494 109 \nL 494 744 \nQ 775 591 1075 516 \nQ 1375 441 1709 441 \nQ 2250 441 2565 725 \nQ 2881 1009 2881 1497 \nQ 2881 1984 2565 2268 \nQ 2250 2553 1709 2553 \nQ 1456 2553 1204 2497 \nQ 953 2441 691 2322 \nL 691 4666 \nz\n\" id=\"DejaVuSans-35\" transform=\"scale(0.015625)\"/>\n       </defs>\n       <use xlink:href=\"#DejaVuSans-32\"/>\n       <use x=\"63.623047\" xlink:href=\"#DejaVuSans-2e\"/>\n       <use x=\"95.410156\" xlink:href=\"#DejaVuSans-35\"/>\n      </g>\n     </g>\n    </g>\n    <g id=\"ytick_3\">\n     <g id=\"line2d_9\">\n      <g>\n       <use style=\"stroke:#000000;stroke-width:0.8;\" x=\"30.103125\" xlink:href=\"#mee21ad1b36\" y=\"120.817125\"/>\n      </g>\n     </g>\n     <g id=\"text_9\">\n      <!-- 3.0 -->\n      <g transform=\"translate(7.2 124.616344)scale(0.1 -0.1)\">\n       <defs>\n        <path d=\"M 2597 2516 \nQ 3050 2419 3304 2112 \nQ 3559 1806 3559 1356 \nQ 3559 666 3084 287 \nQ 2609 -91 1734 -91 \nQ 1441 -91 1130 -33 \nQ 819 25 488 141 \nL 488 750 \nQ 750 597 1062 519 \nQ 1375 441 1716 441 \nQ 2309 441 2620 675 \nQ 2931 909 2931 1356 \nQ 2931 1769 2642 2001 \nQ 2353 2234 1838 2234 \nL 1294 2234 \nL 1294 2753 \nL 1863 2753 \nQ 2328 2753 2575 2939 \nQ 2822 3125 2822 3475 \nQ 2822 3834 2567 4026 \nQ 2313 4219 1838 4219 \nQ 1578 4219 1281 4162 \nQ 984 4106 628 3988 \nL 628 4550 \nQ 988 4650 1302 4700 \nQ 1616 4750 1894 4750 \nQ 2613 4750 3031 4423 \nQ 3450 4097 3450 3541 \nQ 3450 3153 3228 2886 \nQ 3006 2619 2597 2516 \nz\n\" id=\"DejaVuSans-33\" transform=\"scale(0.015625)\"/>\n       </defs>\n       <use xlink:href=\"#DejaVuSans-33\"/>\n       <use x=\"63.623047\" xlink:href=\"#DejaVuSans-2e\"/>\n       <use x=\"95.410156\" xlink:href=\"#DejaVuSans-30\"/>\n      </g>\n     </g>\n    </g>\n    <g id=\"ytick_4\">\n     <g id=\"line2d_10\">\n      <g>\n       <use style=\"stroke:#000000;stroke-width:0.8;\" x=\"30.103125\" xlink:href=\"#mee21ad1b36\" y=\"81.523989\"/>\n      </g>\n     </g>\n     <g id=\"text_10\">\n      <!-- 3.5 -->\n      <g transform=\"translate(7.2 85.323208)scale(0.1 -0.1)\">\n       <use xlink:href=\"#DejaVuSans-33\"/>\n       <use x=\"63.623047\" xlink:href=\"#DejaVuSans-2e\"/>\n       <use x=\"95.410156\" xlink:href=\"#DejaVuSans-35\"/>\n      </g>\n     </g>\n    </g>\n    <g id=\"ytick_5\">\n     <g id=\"line2d_11\">\n      <g>\n       <use style=\"stroke:#000000;stroke-width:0.8;\" x=\"30.103125\" xlink:href=\"#mee21ad1b36\" y=\"42.230853\"/>\n      </g>\n     </g>\n     <g id=\"text_11\">\n      <!-- 4.0 -->\n      <g transform=\"translate(7.2 46.030071)scale(0.1 -0.1)\">\n       <use xlink:href=\"#DejaVuSans-34\"/>\n       <use x=\"63.623047\" xlink:href=\"#DejaVuSans-2e\"/>\n       <use x=\"95.410156\" xlink:href=\"#DejaVuSans-30\"/>\n      </g>\n     </g>\n    </g>\n    <g id=\"text_12\">\n     <!-- 1e7 -->\n     <g transform=\"translate(30.103125 14.798437)scale(0.1 -0.1)\">\n      <defs>\n       <path d=\"M 3597 1894 \nL 3597 1613 \nL 953 1613 \nQ 991 1019 1311 708 \nQ 1631 397 2203 397 \nQ 2534 397 2845 478 \nQ 3156 559 3463 722 \nL 3463 178 \nQ 3153 47 2828 -22 \nQ 2503 -91 2169 -91 \nQ 1331 -91 842 396 \nQ 353 884 353 1716 \nQ 353 2575 817 3079 \nQ 1281 3584 2069 3584 \nQ 2775 3584 3186 3129 \nQ 3597 2675 3597 1894 \nz\nM 3022 2063 \nQ 3016 2534 2758 2815 \nQ 2500 3097 2075 3097 \nQ 1594 3097 1305 2825 \nQ 1016 2553 972 2059 \nL 3022 2063 \nz\n\" id=\"DejaVuSans-65\" transform=\"scale(0.015625)\"/>\n       <path d=\"M 525 4666 \nL 3525 4666 \nL 3525 4397 \nL 1831 0 \nL 1172 0 \nL 2766 4134 \nL 525 4134 \nL 525 4666 \nz\n\" id=\"DejaVuSans-37\" transform=\"scale(0.015625)\"/>\n      </defs>\n      <use xlink:href=\"#DejaVuSans-31\"/>\n      <use x=\"63.623047\" xlink:href=\"#DejaVuSans-65\"/>\n      <use x=\"125.146484\" xlink:href=\"#DejaVuSans-37\"/>\n     </g>\n    </g>\n   </g>\n   <g id=\"line2d_12\">\n    <path clip-path=\"url(#pd250e3d9e3)\" d=\"M 45.321307 204.43053 \nL 72.990728 209.675079 \nL 100.66015 210.121057 \nL 128.329571 208.307395 \nL 155.998993 200.364445 \nL 183.668414 194.450624 \nL 211.337836 194.714878 \nL 239.007257 186.434902 \nL 266.676679 184.160789 \nL 294.3461 188.278945 \nL 322.015522 197.191933 \nL 349.684943 208.269422 \n\" style=\"fill:none;stroke:#1f77b4;stroke-linecap:square;stroke-width:1.5;\"/>\n   </g>\n   <g id=\"line2d_13\">\n    <path clip-path=\"url(#pd250e3d9e3)\" d=\"M 45.321307 159.222072 \nL 72.990728 161.685476 \nL 100.66015 225.354801 \nL 128.329571 186.286579 \nL 155.998993 184.525264 \nL 183.668414 100.327955 \nL 211.337836 27.682074 \nL 239.007257 89.51061 \nL 266.676679 103.482447 \nL 294.3461 91.352955 \nL 322.015522 91.251641 \nL 349.684943 109.106961 \n\" style=\"fill:none;stroke:#ff7f0e;stroke-linecap:square;stroke-width:1.5;\"/>\n   </g>\n   <g id=\"patch_3\">\n    <path d=\"M 30.103125 235.238437 \nL 30.103125 17.798437 \n\" style=\"fill:none;stroke:#000000;stroke-linecap:square;stroke-linejoin:miter;stroke-width:0.8;\"/>\n   </g>\n   <g id=\"patch_4\">\n    <path d=\"M 364.903125 235.238437 \nL 364.903125 17.798437 \n\" style=\"fill:none;stroke:#000000;stroke-linecap:square;stroke-linejoin:miter;stroke-width:0.8;\"/>\n   </g>\n   <g id=\"patch_5\">\n    <path d=\"M 30.103125 235.238437 \nL 364.903125 235.238437 \n\" style=\"fill:none;stroke:#000000;stroke-linecap:square;stroke-linejoin:miter;stroke-width:0.8;\"/>\n   </g>\n   <g id=\"patch_6\">\n    <path d=\"M 30.103125 17.798437 \nL 364.903125 17.798437 \n\" style=\"fill:none;stroke:#000000;stroke-linecap:square;stroke-linejoin:miter;stroke-width:0.8;\"/>\n   </g>\n  </g>\n </g>\n <defs>\n  <clipPath id=\"pd250e3d9e3\">\n   <rect height=\"217.44\" width=\"334.8\" x=\"30.103125\" y=\"17.798437\"/>\n  </clipPath>\n </defs>\n</svg>\n",
            "image/png": "[encoded data removed]"
          },
          "metadata": {
            "needs_background": "light"
          }
        }
      ],
      "source": [
        "d = [1,2,3,4,5,6,7,8,9,10,11,12]\n",
        "plt.plot(d,y_pred,d,y_2020)\n",
        "plt.show()"
      ]
    },
    {
      "cell_type": "code",
      "execution_count": null,
      "metadata": {},
      "outputs": [],
      "source": []
    }
  ]
}