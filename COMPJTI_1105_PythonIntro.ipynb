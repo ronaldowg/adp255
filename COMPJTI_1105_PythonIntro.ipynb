{
  "nbformat": 4,
  "nbformat_minor": 0,
  "metadata": {
    "interpreter": {
      "hash": "1eb51dfc5d7418d8781c1cb9e29c205689788c1dd0c71514a8afdb297ac0d5a5"
    },
    "kernelspec": {
      "display_name": "Python 3.9.6 64-bit ('aula19': venv)",
      "name": "python3"
    },
    "language_info": {
      "codemirror_mode": {
        "name": "ipython",
        "version": 3
      },
      "file_extension": ".py",
      "mimetype": "text/x-python",
      "name": "python",
      "nbconvert_exporter": "python",
      "pygments_lexer": "ipython3",
      "version": "3.9.6"
    },
    "orig_nbformat": 4,
    "colab": {
      "name": "COMPJTI-1105-PythonIntro.ipynb",
      "provenance": [],
      "collapsed_sections": [],
      "toc_visible": true,
      "include_colab_link": true
    }
  },
  "cells": [
    {
      "cell_type": "markdown",
      "metadata": {
        "id": "view-in-github",
        "colab_type": "text"
      },
      "source": [
        "<a href=\"https://colab.research.google.com/github/ronaldowg/adp255/blob/main/COMPJTI_1105_PythonIntro.ipynb\" target=\"_parent\"><img src=\"https://colab.research.google.com/assets/colab-badge.svg\" alt=\"Open In Colab\"/></a>"
      ]
    },
    {
      "cell_type": "markdown",
      "metadata": {
        "id": "PO4t6Ibhc_qm"
      },
      "source": [
        "# Fundamento do Python"
      ]
    },
    {
      "cell_type": "markdown",
      "metadata": {
        "id": "3CtTjYJOcve-"
      },
      "source": [
        "A interface do Python:\n",
        "\n",
        "Todo código em Python (.py) chamamos de script. Podemos rodar o código no shell em diferentes IDEs.\n",
        "\n",
        "O shell (ambiente onde rodamos os códigos) somente entende os códigos na sintaxe correta do Python.\n"
      ]
    },
    {
      "cell_type": "code",
      "metadata": {
        "id": "KLNDhkYIcvfA"
      },
      "source": [
        "# Por exemplo, o que acontece quando escrevemos um texto em \"linguagem humana\" no shell?\n",
        "# Clique em rodar nessa célular para ver o que acontece\n",
        "\n",
        "Olá, meu nome é Conquer!"
      ],
      "execution_count": null,
      "outputs": []
    },
    {
      "cell_type": "markdown",
      "metadata": {
        "id": "NUG-bbVWcvfE"
      },
      "source": [
        "`SyntaxError: invalid syntax`  já nos mostra que o erro que ocorreu foi de sintaxe (ou seja, na escrita do código)\n",
        "\n",
        "Vamos tentar escrever a mesma coisa utilizando as aspas simles ' ou aspas duplas \""
      ]
    },
    {
      "cell_type": "code",
      "metadata": {
        "id": "4eF01QXvcvfF"
      },
      "source": [
        "'Olá, meu nome é Conquer!'"
      ],
      "execution_count": null,
      "outputs": []
    },
    {
      "cell_type": "markdown",
      "metadata": {
        "id": "tJZgQWw8cvfG"
      },
      "source": [
        "Agora sim! Para o Python entender textos *string*, precisamos colocar entre aspas simples ou duplas.\n",
        "\n",
        "O Python é muito matemático, ele entende números e operações matemáticas sem grande esforço:"
      ]
    },
    {
      "cell_type": "code",
      "metadata": {
        "id": "aA7gzynecvfH"
      },
      "source": [
        "# Por exemplo, podemos facilmente multiplicar os números 5 e 7:\n",
        "\n",
        "5 * 7"
      ],
      "execution_count": null,
      "outputs": []
    },
    {
      "cell_type": "markdown",
      "metadata": {
        "id": "cC0UpXJacvfI"
      },
      "source": [
        "Utilizamos uma função especial do Python que se `print()` quando queremos que ele nos apresente na tela algum resultado:\n",
        "\n",
        "Vamos voltar ao exemplo da multiplicação dos números 5 e 7. Faça com que o Python imprima o resulta:"
      ]
    },
    {
      "cell_type": "code",
      "metadata": {
        "id": "0ro7KdTWcvfJ"
      },
      "source": [
        "# Imprima o resultado da multiplicação entre 5 e 6:\n",
        "\n",
        "print(5 * 6)"
      ],
      "execution_count": null,
      "outputs": []
    },
    {
      "cell_type": "markdown",
      "metadata": {
        "id": "S2WNxcgpcvfK"
      },
      "source": [
        "Repare que quando quisermos inserir algum comentário em \"linguagem humana\" dentro do nosso código, devemos utilizar o coringa `#`: tudo que vier após ele o Python vai ignorar. Ele só serve para comentários em uma linha.\n",
        "\n",
        "Se quiseremos escrever mais de um linha de comentários, podemos utilizar três vezes as aspas duplas no ínicio e no final do comentário"
      ]
    },
    {
      "cell_type": "code",
      "metadata": {
        "id": "JJWjiVyqcvfL"
      },
      "source": [
        "# Este é um comentário de linha simples\n",
        "\n",
        "print('Hello World')"
      ],
      "execution_count": null,
      "outputs": []
    },
    {
      "cell_type": "markdown",
      "metadata": {
        "id": "7dveKnTzcvfN"
      },
      "source": [
        "Relembrando os operadores matemáticos do Python:\n",
        "\n",
        "* Exponenciação: `**` este operador eleva o número da esquerda na potência do número da direita. Por exemplo `4**2` equivale `16`.\n",
        "\n",
        "* Resto: `%` este operador retorno o resto da divisão entre dois números. Por exemplo `18 % 7` equivale a `4`."
      ]
    },
    {
      "cell_type": "markdown",
      "metadata": {
        "id": "Ne1Ge7jJcvfO"
      },
      "source": [
        "### Mão na Massa\n",
        "\n",
        "Suponha que um anúncio da empresa tem como objetivo render 10% do valor investido ao ano.\n",
        "\n",
        "A empresa investiu R$ 10.000,00\n",
        "\n",
        "Para saber o valor ao final do primeiro ano, basta multiplicar `10.000,00 x 1,1 = R$ 11.000,00`\n",
        "\n",
        "Ao final de dois anos, teríamos `10.000,00 x 1,1 x 1,1 = R$ ??? `\n",
        "\n",
        "**Use o Python para calcular o valor do investimento ao final de 7 anos**"
      ]
    },
    {
      "cell_type": "code",
      "metadata": {
        "id": "_sWVEaYBcvfQ"
      },
      "source": [
        "# Calcule aqui o valor do investimento após 7 anos:\n",
        "\n",
        "#round(10000.00*1.1*1.1*1.1*1.1*1.1*1.1*1.1, 2)\n",
        "\n",
        "#10000 * (1.1 ** 7)\n",
        "\n",
        "#10000.00 * (1.1 ** 7)\n",
        "\n",
        "#print('R$ ' + str(10000.00*1.1*1.1*1.1*1.1*1.1*1.1*1.1))\n",
        "\n",
        "print('R$ '+ str( 10000*(1.1**7) ))\n"
      ],
      "execution_count": null,
      "outputs": []
    },
    {
      "cell_type": "markdown",
      "metadata": {
        "id": "REqzrh8ScvfQ"
      },
      "source": [
        "Podemos organizar o nosso cálculo armazenando os número em variáveis.\n",
        "\n",
        "Variáveis são como \"caixinhas\" onde alocamos algum dado a elas.\n",
        "\n",
        "Por exemplo, podemos definir a variável `conquer` e alocar a ela o número `10`."
      ]
    },
    {
      "cell_type": "code",
      "metadata": {
        "id": "q1Qd94jkcvfR"
      },
      "source": [
        "conquer = 10\n",
        "\n",
        "\n",
        "\n",
        "#Agora podemos mostrar o valor guardado na variável ao imprimi-la:\n",
        "\n",
        "print()"
      ],
      "execution_count": null,
      "outputs": []
    },
    {
      "cell_type": "markdown",
      "metadata": {
        "id": "71JHmA_ycvfR"
      },
      "source": [
        "### Mão na Massa\n",
        "\n",
        "Faça o mesmo cálculo do investimento ao final de 7 anos.\n",
        "\n",
        "Para tanto, defina três variáveis: `valor_inicial`  ,   `multiplicador_crescimento`  e `resultado`.\n",
        "\n",
        "Por fim, imprima o resultado."
      ]
    },
    {
      "cell_type": "code",
      "metadata": {
        "id": "KvT2HzT3cvfT"
      },
      "source": [
        "# Crie a variável valor_inicial\n",
        "valor_inicial = 10000\n",
        "\n",
        "# Crie a variável multiplicador_crescimento\n",
        "multiplicador_crescimento = 1.1\n",
        "\n",
        "# Calcule o resultado\n",
        "resultado = valor_inicial * ( multiplicador_crescimento ** 7 )\n",
        "\n",
        "# Imprima o resultado\n",
        "print(resultado)"
      ],
      "execution_count": null,
      "outputs": []
    },
    {
      "cell_type": "markdown",
      "metadata": {
        "id": "HK87Ty3_cvfT"
      },
      "source": [
        "O que acontece se eu somar variáveis que são texto (string) ?"
      ]
    },
    {
      "cell_type": "code",
      "source": [
        "valor_inicial"
      ],
      "metadata": {
        "id": "hsJ6BH4F7_Be"
      },
      "execution_count": null,
      "outputs": []
    },
    {
      "cell_type": "code",
      "source": [
        "valor_inicial = 78"
      ],
      "metadata": {
        "id": "6LJTVBOT8JSA"
      },
      "execution_count": null,
      "outputs": []
    },
    {
      "cell_type": "code",
      "source": [
        "valor_inicial"
      ],
      "metadata": {
        "id": "tC99t6Ig8Nj0"
      },
      "execution_count": null,
      "outputs": []
    },
    {
      "cell_type": "code",
      "metadata": {
        "id": "BOudZsAOcvfU"
      },
      "source": [
        "aula = 'show'\n",
        "\n",
        "print(aula + \"-\" + aula)"
      ],
      "execution_count": null,
      "outputs": []
    },
    {
      "cell_type": "markdown",
      "metadata": {
        "id": "9wxnI7_ycvfU"
      },
      "source": [
        "Somar duas string é a mesma coisa que juntá-las em uma só. Como se fosse o concatenar texto no excel.\n",
        "\n",
        "Rode o código abaixo e diga qual o problema"
      ]
    },
    {
      "cell_type": "code",
      "metadata": {
        "id": "e5DqV75tcvfV"
      },
      "source": [
        "print(\"Eu apliquei R$ \" + valor_inicial + \" e obtive ao final de 7 anos R$ \" + resultado + \" . Demais!!\")"
      ],
      "execution_count": null,
      "outputs": []
    },
    {
      "cell_type": "markdown",
      "metadata": {
        "id": "3_UiYsK_cvfX"
      },
      "source": [
        "O que significa o erro apresentado?\n",
        "\n",
        "`TypeError: can only concatenate str (not \"int\") to str`\n",
        "\n",
        "Para resolver, devemos transformar o objeto que esta armazenado como número para string. Vamos utilizar a função `str()` para transformar um número em texto. \n",
        "\n",
        "### Mão na Massa\n",
        "\n",
        "Tente no código abaixo transformar a variável para string: `str(valor_inicial)` e `str(resultado)`. Rode o código novamente.\n",
        "\n"
      ]
    },
    {
      "cell_type": "code",
      "source": [
        "valor_incial = 7\n",
        "str(float(valor_inicial))"
      ],
      "metadata": {
        "id": "tUurxvqw7bVW"
      },
      "execution_count": null,
      "outputs": []
    },
    {
      "cell_type": "code",
      "metadata": {
        "id": "bjzfn6opcvfX"
      },
      "source": [
        "print(\"Eu apliquei R$ \" + str(valor_inicial) + \" e obtive ao final de 7 anos R$ \" + str(resultado) + \" . Demais!!\")"
      ],
      "execution_count": null,
      "outputs": []
    },
    {
      "cell_type": "code",
      "source": [
        "a = 7\n",
        "str(a)"
      ],
      "metadata": {
        "id": "A6EuDHJP84O_"
      },
      "execution_count": null,
      "outputs": []
    },
    {
      "cell_type": "markdown",
      "metadata": {
        "id": "HMHbbSuHcvfY"
      },
      "source": [
        "Sempre podemos consultar um tipo de variável com a função `type()`.\n",
        "\n",
        "Similar a função `str()` temos as funções `int()`, `float()`, e `bool()`."
      ]
    },
    {
      "cell_type": "markdown",
      "metadata": {
        "id": "vxGU1nsWcvfZ"
      },
      "source": [
        "## Listas\n",
        "\n",
        "Lista é um tipo de objeto muito utilizado no Python.\n",
        "\n",
        "Utilizamos o colchetes `[ ]` para delimitar uma lista e os itens são inseridos dentro e separados por vírgula."
      ]
    },
    {
      "cell_type": "code",
      "metadata": {
        "id": "bUY3yLDocvfZ"
      },
      "source": [
        "# Uma lista contendo número, texto e variável\n",
        "\n",
        "minha_lista = [1, 43, 'conquer', resultado, -5]"
      ],
      "execution_count": null,
      "outputs": []
    },
    {
      "cell_type": "markdown",
      "metadata": {
        "id": "99vKY2NycvfZ"
      },
      "source": [
        "Para acessar os elementos de uma lista, basta utilizar o colchete `[]` e dentro o número inteiro da posição do elemento que queremos:\n",
        "\n",
        "```\n",
        "x = [\"a\", \"b\" , \"c\", \"d\"]\n",
        "x[1]\n",
        "x[-3] #o mesmo resultado!\n",
        "```\n",
        "resultado: \"b\"\n",
        "\n",
        "Lembre que no Python a contagem de posição começa no zero `0``\n",
        "\n",
        "### Mão na Massa"
      ]
    },
    {
      "cell_type": "code",
      "metadata": {
        "id": "RxBO_RwXcvfa"
      },
      "source": [
        "# Imprima o segundo elemento da minha_lista\n",
        "print(minha_lista[ ])\n",
        "\n",
        "# Imprima o último elemento da minha_lista\n",
        "print(minha_lista[ ])\n",
        "\n",
        "# Imprima o único elemento de texto na minha_lista\n",
        "print(minha_lista[ ])"
      ],
      "execution_count": null,
      "outputs": []
    },
    {
      "cell_type": "markdown",
      "metadata": {
        "id": "I9-nnK21cvfa"
      },
      "source": [
        "Podemos recortar uma lista utilizando um *range*.\n",
        "\n",
        "`minha_lista[start:end]``\n",
        "\n",
        "O `start` será incluído no resultado, mas o `end`, não."
      ]
    },
    {
      "cell_type": "code",
      "metadata": {
        "id": "k0JkxL50cvfa"
      },
      "source": [
        "# resgatamos os elementos de índice 1 e 2 da minha_lista\n",
        "print(minha_lista[1:3])\n",
        "\n",
        "# podemos deixar em aberto o início e final, neste caso virá tudo ante ou depois da posição em aberto.\n",
        "\n",
        "# neste caso, resgatamos todos os objetos antes da posição 3, ou seja, posições 0, 1 e 2:\n",
        "print(minha_lista[:3])\n",
        "\n",
        "# neste caso, resgatamos todos os objetos depois da posição 1, ou seja, posições 2, 3, 4 e 5 :\n",
        "print(minha_lista[1:])"
      ],
      "execution_count": null,
      "outputs": []
    },
    {
      "cell_type": "code",
      "metadata": {
        "id": "58SvXcxQcvfb"
      },
      "source": [
        "l = [\"brasil\", 4.5, 75, True, \"Pelé\"]\n",
        "\n",
        "# faça um recorte na lista retornando todos os elementos até (inclusive) o terceiro item da lista\n",
        "print(l[ ])\n",
        "\n",
        "# faça um recorte na lista e retorno os dois últimos itens da lista\n",
        "print([ ])"
      ],
      "execution_count": null,
      "outputs": []
    },
    {
      "cell_type": "markdown",
      "metadata": {
        "id": "GdivpRzbcvfb"
      },
      "source": [
        "* Modificamos um item da lista indicando o novo valor na posição a substituir `minha_lista[2] = \"novo elemento\"`\n",
        "\n",
        "* Adicionamos elementos com a função `append()`, esta função modifica a lista e acrescenta o item ao final.\n",
        "\n",
        "* Removemos um item com a funçao `del()`, especificando dentro do parênteses a posição da lista a excluir."
      ]
    },
    {
      "cell_type": "code",
      "metadata": {
        "id": "FXw-u2cJcvfc"
      },
      "source": [
        "print(l)\n",
        "\n",
        "l[1] = \"novo elemento\"\n",
        "\n",
        "print(l)\n",
        "\n",
        "l.append(2021)\n",
        "\n",
        "print(l)\n",
        "\n",
        "del(l[0])\n",
        "\n",
        "print(l)"
      ],
      "execution_count": null,
      "outputs": []
    }
  ]
}