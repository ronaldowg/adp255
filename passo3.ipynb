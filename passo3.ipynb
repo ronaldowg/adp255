{
  "nbformat": 4,
  "nbformat_minor": 0,
  "metadata": {
    "colab": {
      "name": "ML-ADP255.ipynb",
      "provenance": [],
      "collapsed_sections": [],
      "toc_visible": true
    },
    "kernelspec": {
      "display_name": "env_adp255",
      "name": "env_adp255",
      "language": "python"
    }
  },
  "cells": [
    {
      "cell_type": "markdown",
      "metadata": {
        "id": "uv31DZx2L767"
      },
      "source": [
        "# Passo 3: Testar diferentes algoritmos preditivos"
      ]
    },
    {
      "cell_type": "markdown",
      "metadata": {
        "id": "xrGvzu1-yq-T"
      },
      "source": [
        "Neste capítulo são apresentados os algoritmos de machine learning que foram testados com os dados selecionados no passo anterior.\n",
        "\n",
        "Os seguintes algoritmos foram testados:\n",
        "\n",
        "Seasonal Autoregressive Integrated Moving Average (SARIMA)\n",
        "\n",
        "Um modelo de Deep Learning:\n",
        "\n",
        "Convolutional Neural Networks (CNN)\n",
        "\n",
        "Os dois algoritmos abaixo foram sugeridos após a utilização da ferramento AUTO-TS:\n",
        "\n",
        "Prophet\n",
        "\n",
        "Vector Autoregression (VAR)\n",
        "\n",
        "\n"
      ]
    }
  ]
}