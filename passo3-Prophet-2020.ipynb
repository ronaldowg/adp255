{
 "cells": [
  {
   "cell_type": "markdown",
   "id": "clear-teens",
   "metadata": {},
   "source": [
    "# Prophet 2020\n",
    "\n",
    "https://facebook.github.io/prophet/docs/quick_start.html"
   ]
  },
  {
   "cell_type": "code",
   "execution_count": 2,
   "id": "general-playlist",
   "metadata": {},
   "outputs": [
    {
     "output_type": "execute_result",
     "data": {
      "text/plain": [
       "           ds         y\n",
       "0  2014-01-01  13427897\n",
       "1  2014-02-01  14152120\n",
       "2  2014-03-01  13710770\n",
       "3  2014-04-01  12602895\n",
       "4  2014-05-01  14603442"
      ],
      "text/html": "<div>\n<style scoped>\n    .dataframe tbody tr th:only-of-type {\n        vertical-align: middle;\n    }\n\n    .dataframe tbody tr th {\n        vertical-align: top;\n    }\n\n    .dataframe thead th {\n        text-align: right;\n    }\n</style>\n<table border=\"1\" class=\"dataframe\">\n  <thead>\n    <tr style=\"text-align: right;\">\n      <th></th>\n      <th>ds</th>\n      <th>y</th>\n    </tr>\n  </thead>\n  <tbody>\n    <tr>\n      <th>0</th>\n      <td>2014-01-01</td>\n      <td>13427897</td>\n    </tr>\n    <tr>\n      <th>1</th>\n      <td>2014-02-01</td>\n      <td>14152120</td>\n    </tr>\n    <tr>\n      <th>2</th>\n      <td>2014-03-01</td>\n      <td>13710770</td>\n    </tr>\n    <tr>\n      <th>3</th>\n      <td>2014-04-01</td>\n      <td>12602895</td>\n    </tr>\n    <tr>\n      <th>4</th>\n      <td>2014-05-01</td>\n      <td>14603442</td>\n    </tr>\n  </tbody>\n</table>\n</div>"
     },
     "metadata": {},
     "execution_count": 2
    }
   ],
   "source": [
    "# Importa bibliotecas; inicializa variáveis; define funções.\n",
    "from prophet.plot import plot_plotly, plot_components_plotly\n",
    "import matplotlib as mpl \n",
    "import pandas as pd\n",
    "from prophet import Prophet\n",
    "import matplotlib.pyplot as plt\n",
    "import seaborn as sns\n",
    "from sklearn.metrics import mean_squared_error\n",
    "import math as mt\n",
    "\n",
    "df = pd.read_csv('dadosRonaldo.csv')\n",
    "\n",
    "df_prophet = df.loc[0:71,['data', 'total']]\n",
    "df_prophet.rename(columns={'data': 'ds', 'total': 'y'}, inplace = True)\n",
    "df_prophet.head()"
   ]
  },
  {
   "cell_type": "markdown",
   "id": "burning-access",
   "metadata": {},
   "source": [
    "Cria e ajusta o modelo Prophet."
   ]
  },
  {
   "cell_type": "code",
   "execution_count": 19,
   "id": "approximate-heath",
   "metadata": {},
   "outputs": [
    {
     "name": "stderr",
     "output_type": "stream",
     "text": [
      "INFO:prophet:Disabling weekly seasonality. Run prophet with weekly_seasonality=True to override this.\n",
      "INFO:prophet:Disabling daily seasonality. Run prophet with daily_seasonality=True to override this.\n"
     ]
    },
    {
     "data": {
      "text/html": [
       "<div>\n",
       "<style scoped>\n",
       "    .dataframe tbody tr th:only-of-type {\n",
       "        vertical-align: middle;\n",
       "    }\n",
       "\n",
       "    .dataframe tbody tr th {\n",
       "        vertical-align: top;\n",
       "    }\n",
       "\n",
       "    .dataframe thead th {\n",
       "        text-align: right;\n",
       "    }\n",
       "</style>\n",
       "<table border=\"1\" class=\"dataframe\">\n",
       "  <thead>\n",
       "    <tr style=\"text-align: right;\">\n",
       "      <th></th>\n",
       "      <th>ds</th>\n",
       "      <th>yhat</th>\n",
       "      <th>yhat_lower</th>\n",
       "      <th>yhat_upper</th>\n",
       "    </tr>\n",
       "  </thead>\n",
       "  <tbody>\n",
       "    <tr>\n",
       "      <th>79</th>\n",
       "      <td>2020-08-01</td>\n",
       "      <td>2.909555e+07</td>\n",
       "      <td>2.739059e+07</td>\n",
       "      <td>3.083366e+07</td>\n",
       "    </tr>\n",
       "    <tr>\n",
       "      <th>80</th>\n",
       "      <td>2020-09-01</td>\n",
       "      <td>2.799055e+07</td>\n",
       "      <td>2.636325e+07</td>\n",
       "      <td>2.978113e+07</td>\n",
       "    </tr>\n",
       "    <tr>\n",
       "      <th>81</th>\n",
       "      <td>2020-10-01</td>\n",
       "      <td>2.592714e+07</td>\n",
       "      <td>2.423826e+07</td>\n",
       "      <td>2.766490e+07</td>\n",
       "    </tr>\n",
       "    <tr>\n",
       "      <th>82</th>\n",
       "      <td>2020-11-01</td>\n",
       "      <td>2.814236e+07</td>\n",
       "      <td>2.629272e+07</td>\n",
       "      <td>2.995874e+07</td>\n",
       "    </tr>\n",
       "    <tr>\n",
       "      <th>83</th>\n",
       "      <td>2020-12-01</td>\n",
       "      <td>2.747290e+07</td>\n",
       "      <td>2.567324e+07</td>\n",
       "      <td>2.915835e+07</td>\n",
       "    </tr>\n",
       "  </tbody>\n",
       "</table>\n",
       "</div>"
      ],
      "text/plain": [
       "           ds          yhat    yhat_lower    yhat_upper\n",
       "79 2020-08-01  2.909555e+07  2.739059e+07  3.083366e+07\n",
       "80 2020-09-01  2.799055e+07  2.636325e+07  2.978113e+07\n",
       "81 2020-10-01  2.592714e+07  2.423826e+07  2.766490e+07\n",
       "82 2020-11-01  2.814236e+07  2.629272e+07  2.995874e+07\n",
       "83 2020-12-01  2.747290e+07  2.567324e+07  2.915835e+07"
      ]
     },
     "execution_count": 19,
     "metadata": {},
     "output_type": "execute_result"
    }
   ],
   "source": [
    "m = Prophet()\n",
    "\n",
    "m.fit(df_prophet)\n",
    "\n",
    "future = m.make_future_dataframe(periods=12, freq='MS')\n",
    "future.tail()\n",
    "\n",
    "forecast = m.predict(future)\n",
    "forecast[['ds', 'yhat', 'yhat_lower', 'yhat_upper']].tail()"
   ]
  },
  {
   "cell_type": "markdown",
   "id": "brutal-scratch",
   "metadata": {},
   "source": [
    "Resultado da previsão da série (yhat)."
   ]
  },
  {
   "cell_type": "code",
   "execution_count": 20,
   "id": "turned-porter",
   "metadata": {},
   "outputs": [
    {
     "data": {
      "text/html": [
       "<div>\n",
       "<style scoped>\n",
       "    .dataframe tbody tr th:only-of-type {\n",
       "        vertical-align: middle;\n",
       "    }\n",
       "\n",
       "    .dataframe tbody tr th {\n",
       "        vertical-align: top;\n",
       "    }\n",
       "\n",
       "    .dataframe thead th {\n",
       "        text-align: right;\n",
       "    }\n",
       "</style>\n",
       "<table border=\"1\" class=\"dataframe\">\n",
       "  <thead>\n",
       "    <tr style=\"text-align: right;\">\n",
       "      <th></th>\n",
       "      <th>data</th>\n",
       "      <th>yhat</th>\n",
       "    </tr>\n",
       "  </thead>\n",
       "  <tbody>\n",
       "    <tr>\n",
       "      <th>72</th>\n",
       "      <td>2020-01-01</td>\n",
       "      <td>2.291173e+07</td>\n",
       "    </tr>\n",
       "    <tr>\n",
       "      <th>73</th>\n",
       "      <td>2020-02-01</td>\n",
       "      <td>2.290039e+07</td>\n",
       "    </tr>\n",
       "    <tr>\n",
       "      <th>74</th>\n",
       "      <td>2020-03-01</td>\n",
       "      <td>2.434460e+07</td>\n",
       "    </tr>\n",
       "    <tr>\n",
       "      <th>75</th>\n",
       "      <td>2020-04-01</td>\n",
       "      <td>2.237586e+07</td>\n",
       "    </tr>\n",
       "    <tr>\n",
       "      <th>76</th>\n",
       "      <td>2020-05-01</td>\n",
       "      <td>2.312629e+07</td>\n",
       "    </tr>\n",
       "    <tr>\n",
       "      <th>77</th>\n",
       "      <td>2020-06-01</td>\n",
       "      <td>2.656537e+07</td>\n",
       "    </tr>\n",
       "    <tr>\n",
       "      <th>78</th>\n",
       "      <td>2020-07-01</td>\n",
       "      <td>2.565514e+07</td>\n",
       "    </tr>\n",
       "    <tr>\n",
       "      <th>79</th>\n",
       "      <td>2020-08-01</td>\n",
       "      <td>2.909555e+07</td>\n",
       "    </tr>\n",
       "    <tr>\n",
       "      <th>80</th>\n",
       "      <td>2020-09-01</td>\n",
       "      <td>2.799055e+07</td>\n",
       "    </tr>\n",
       "    <tr>\n",
       "      <th>81</th>\n",
       "      <td>2020-10-01</td>\n",
       "      <td>2.592714e+07</td>\n",
       "    </tr>\n",
       "    <tr>\n",
       "      <th>82</th>\n",
       "      <td>2020-11-01</td>\n",
       "      <td>2.814236e+07</td>\n",
       "    </tr>\n",
       "    <tr>\n",
       "      <th>83</th>\n",
       "      <td>2020-12-01</td>\n",
       "      <td>2.747290e+07</td>\n",
       "    </tr>\n",
       "  </tbody>\n",
       "</table>\n",
       "</div>"
      ],
      "text/plain": [
       "          data          yhat\n",
       "72  2020-01-01  2.291173e+07\n",
       "73  2020-02-01  2.290039e+07\n",
       "74  2020-03-01  2.434460e+07\n",
       "75  2020-04-01  2.237586e+07\n",
       "76  2020-05-01  2.312629e+07\n",
       "77  2020-06-01  2.656537e+07\n",
       "78  2020-07-01  2.565514e+07\n",
       "79  2020-08-01  2.909555e+07\n",
       "80  2020-09-01  2.799055e+07\n",
       "81  2020-10-01  2.592714e+07\n",
       "82  2020-11-01  2.814236e+07\n",
       "83  2020-12-01  2.747290e+07"
      ]
     },
     "execution_count": 20,
     "metadata": {},
     "output_type": "execute_result"
    }
   ],
   "source": [
    "resultado = forecast.loc[72:83, ['ds','yhat']]\n",
    "resultado = resultado.rename(columns={'ds': 'data'})\n",
    "from datetime import date\n",
    "resultado['data'] = resultado['data'].dt.strftime('%Y-%m-%d') # Ajusta a coluna da data.\n",
    "resultado"
   ]
  },
  {
   "cell_type": "markdown",
   "id": "adult-kazakhstan",
   "metadata": {},
   "source": [
    "Valores reais da série ('total')."
   ]
  },
  {
   "cell_type": "code",
   "execution_count": 21,
   "id": "traditional-graphic",
   "metadata": {},
   "outputs": [
    {
     "data": {
      "text/html": [
       "<div>\n",
       "<style scoped>\n",
       "    .dataframe tbody tr th:only-of-type {\n",
       "        vertical-align: middle;\n",
       "    }\n",
       "\n",
       "    .dataframe tbody tr th {\n",
       "        vertical-align: top;\n",
       "    }\n",
       "\n",
       "    .dataframe thead th {\n",
       "        text-align: right;\n",
       "    }\n",
       "</style>\n",
       "<table border=\"1\" class=\"dataframe\">\n",
       "  <thead>\n",
       "    <tr style=\"text-align: right;\">\n",
       "      <th></th>\n",
       "      <th>data</th>\n",
       "      <th>total</th>\n",
       "    </tr>\n",
       "  </thead>\n",
       "  <tbody>\n",
       "    <tr>\n",
       "      <th>72</th>\n",
       "      <td>2020-01-01</td>\n",
       "      <td>25113021</td>\n",
       "    </tr>\n",
       "    <tr>\n",
       "      <th>73</th>\n",
       "      <td>2020-02-01</td>\n",
       "      <td>24799556</td>\n",
       "    </tr>\n",
       "    <tr>\n",
       "      <th>74</th>\n",
       "      <td>2020-03-01</td>\n",
       "      <td>16697718</td>\n",
       "    </tr>\n",
       "    <tr>\n",
       "      <th>75</th>\n",
       "      <td>2020-04-01</td>\n",
       "      <td>21669098</td>\n",
       "    </tr>\n",
       "    <tr>\n",
       "      <th>76</th>\n",
       "      <td>2020-05-01</td>\n",
       "      <td>21893223</td>\n",
       "    </tr>\n",
       "    <tr>\n",
       "      <th>77</th>\n",
       "      <td>2020-06-01</td>\n",
       "      <td>32607220</td>\n",
       "    </tr>\n",
       "    <tr>\n",
       "      <th>78</th>\n",
       "      <td>2020-07-01</td>\n",
       "      <td>41851313</td>\n",
       "    </tr>\n",
       "    <tr>\n",
       "      <th>79</th>\n",
       "      <td>2020-08-01</td>\n",
       "      <td>33983713</td>\n",
       "    </tr>\n",
       "    <tr>\n",
       "      <th>80</th>\n",
       "      <td>2020-09-01</td>\n",
       "      <td>32205815</td>\n",
       "    </tr>\n",
       "    <tr>\n",
       "      <th>81</th>\n",
       "      <td>2020-10-01</td>\n",
       "      <td>33749277</td>\n",
       "    </tr>\n",
       "    <tr>\n",
       "      <th>82</th>\n",
       "      <td>2020-11-01</td>\n",
       "      <td>33762169</td>\n",
       "    </tr>\n",
       "    <tr>\n",
       "      <th>83</th>\n",
       "      <td>2020-12-01</td>\n",
       "      <td>31490103</td>\n",
       "    </tr>\n",
       "  </tbody>\n",
       "</table>\n",
       "</div>"
      ],
      "text/plain": [
       "          data     total\n",
       "72  2020-01-01  25113021\n",
       "73  2020-02-01  24799556\n",
       "74  2020-03-01  16697718\n",
       "75  2020-04-01  21669098\n",
       "76  2020-05-01  21893223\n",
       "77  2020-06-01  32607220\n",
       "78  2020-07-01  41851313\n",
       "79  2020-08-01  33983713\n",
       "80  2020-09-01  32205815\n",
       "81  2020-10-01  33749277\n",
       "82  2020-11-01  33762169\n",
       "83  2020-12-01  31490103"
      ]
     },
     "execution_count": 21,
     "metadata": {},
     "output_type": "execute_result"
    }
   ],
   "source": [
    "real = df.loc[72:83,['data', 'total']]\n",
    "real"
   ]
  },
  {
   "cell_type": "markdown",
   "id": "electrical-harvey",
   "metadata": {},
   "source": [
    "Apresentação dos dados e rmse."
   ]
  },
  {
   "cell_type": "code",
   "execution_count": 24,
   "id": "hired-spoke",
   "metadata": {},
   "outputs": [
    {
     "name": "stderr",
     "output_type": "stream",
     "text": [
      "INFO:matplotlib.category:Using categorical units to plot a list of strings that are all parsable as floats or dates. If these strings should be plotted as numbers, cast to the appropriate data type before plotting.\n",
      "INFO:matplotlib.category:Using categorical units to plot a list of strings that are all parsable as floats or dates. If these strings should be plotted as numbers, cast to the appropriate data type before plotting.\n",
      "INFO:matplotlib.category:Using categorical units to plot a list of strings that are all parsable as floats or dates. If these strings should be plotted as numbers, cast to the appropriate data type before plotting.\n",
      "INFO:matplotlib.category:Using categorical units to plot a list of strings that are all parsable as floats or dates. If these strings should be plotted as numbers, cast to the appropriate data type before plotting.\n"
     ]
    },
    {
     "data": {
      "image/png": "[encoded data removed]",
      "text/plain": [
       "<Figure size 1080x432 with 1 Axes>"
      ]
     },
     "metadata": {},
     "output_type": "display_data"
    },
    {
     "name": "stdout",
     "output_type": "stream",
     "text": [
      "O valor do rmse é:  6572265.039806995\n"
     ]
    }
   ],
   "source": [
    "final_2020 = pd.merge(resultado, real, how = 'inner')\n",
    "x = final_2020['data']\n",
    "y1 = final_2020['yhat']\n",
    "y2 =final_2020['total']\n",
    "\n",
    "sns.set()\n",
    "plt.figure(figsize=(15,6))\n",
    "mpl.rc('axes', labelsize=14)\n",
    "mpl.rc('xtick', labelsize=8)\n",
    "mpl.rc('ytick', labelsize=8)\n",
    "plt.title('Prophet - Previsão 2020')\n",
    "plt.xticks(rotation=90)\n",
    "plt.plot(x,y1,label=\"Previsto 2020\")\n",
    "plt.plot(x,y2,label=\"Real 2020\")\n",
    "plt.legend()\n",
    "plt.show()\n",
    "\n",
    "#Calcula o rmse de cada variável.\n",
    "print('O valor do rmse é: ', mt.sqrt(mean_squared_error(final_2020['yhat'], final_2020['total'])))"
   ]
  }
 ],
 "metadata": {
  "kernelspec": {
   "display_name": "env_adp255",
   "language": "python",
   "name": "env_adp255"
  },
  "language_info": {
   "codemirror_mode": {
    "name": "ipython",
    "version": 3
   },
   "file_extension": ".py",
   "mimetype": "text/x-python",
   "name": "python",
   "nbconvert_exporter": "python",
   "pygments_lexer": "ipython3",
   "version": "3.8.10"
  }
 },
 "nbformat": 4,
 "nbformat_minor": 5
}