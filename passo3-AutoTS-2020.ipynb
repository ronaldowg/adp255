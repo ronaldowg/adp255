"""
Created on Tue Jun  8 11:57:15 2021

AutoTS: usando 2014->2019 para prever 2020.

@author: Marcos
"""

import pandas as pd
import matplotlib as mpl
import matplotlib.pyplot as plt
from datetime import datetime
import auto_ts as AT
import math as mt
from sklearn.metrics import mean_squared_error
import seaborn as sns

colunas = ['data','total','ibc','pib','consumo', 'ICST-R', 'geracaoGWh','IndGeral']

def minmax_norm1(df_input): # Normaliza de -1 a +1.
    return 2*(df-df.min())/(df.max()-df.min()) -1

def minmax_norm2(df_input): # Normaliza de 0 a +1.
    return (df-df.min())/(df.max()-df.min())

mpl.rcParams['figure.figsize'] = (8, 6)
mpl.rcParams['axes.grid'] = False

dados_autoML = pd.read_csv('dadosRonaldo.csv')
dados_autoML.head()

df = dados_autoML[colunas]
df = df.set_index('data')
df.index = pd.to_datetime(df.index)

df_minmax_norm1 = minmax_norm1(df)
print(df_minmax_norm1)

df_minmax_norm2 = minmax_norm2(df)
print(df_minmax_norm2)

df
df.info()

print ("Rows     : " ,df.shape[0])
print ("Columns  : " ,df.shape[1])
print ("\nFeatures : \n" ,df.columns.tolist())
print ("\nMissing values :  ", df.isnull().any())
print ("\nUnique values :  \n",df.nunique())

ec_df = df
ec_df.head()

ec_data = ec_df['total']
ec_data.head()
ec_data.plot(grid=True)

ec_df_2020=ec_df.loc['2020']
ec_data_2020=ec_df_2020['total']
ec_data_2020.plot(grid=True)

ec_data_2020.plot.bar()

final_df = df.copy()
final_df.head(10)

final_df=final_df.reset_index()
final_df=final_df[colunas]

final_df.head(10)

traindata = final_df[:72]
testdata = final_df[72:84]
print(traindata.shape, testdata.shape)
traindata.head()
testdata.head()

ts_column = 'data'
sep = ','
target = 'total'

model = AT.auto_timeseries(score_type='rmse',
                time_interval='M',
                non_seasonal_pdq=None, seasonality=True, seasonal_period=12,
                model_type=['best'],
                verbose=2)
"""
Lista de Modelos permitidos (10): best, prophet, stats, ml, arima, ARIMA, 
                                    Prophet, SARIMAX, VAR, ML.
"""

model.fit(traindata, ts_column,target)

### Best => auto_SARIMAX
predicao = model.predict(testdata, model='best')
resultado = predicao.loc[:, ['yhat']]
resultado = resultado.reset_index()
resultado = resultado.rename(columns={'index': 'data'})

real = testdata.loc[:,['data', 'total']]

final_2020 = pd.merge(resultado, real, how = 'inner')
x = final_2020['data']
y1 = final_2020['yhat']
y2 =final_2020['total']

sns.set()
plt.figure(figsize=(15,6))
plt.title('AutoML - Resultados \'best\'')
plt.plot(x,y1,label="Previsto 2020")
plt.plot(x,y2,label="Real 2020")
plt.legend()
plt.show()

print('O valor do rmse é: ', \
          mt.sqrt(mean_squared_error(final_2020['yhat'], final_2020['total'])))